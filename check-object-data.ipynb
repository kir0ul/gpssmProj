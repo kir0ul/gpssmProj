{
 "cells": [
  {
   "cell_type": "code",
   "execution_count": 7,
   "id": "e68d0412-14ca-46a0-bf29-e13dd7011763",
   "metadata": {},
   "outputs": [],
   "source": [
    "from pathlib import Path\n",
    "import h5py\n",
    "import numpy as np"
   ]
  },
  {
   "cell_type": "code",
   "execution_count": 8,
   "id": "427bb750-65e8-4b7d-a4b6-2c91470f9535",
   "metadata": {},
   "outputs": [
    {
     "data": {
      "text/plain": [
       "True"
      ]
     },
     "execution_count": 8,
     "metadata": {},
     "output_type": "execute_result"
    }
   ],
   "source": [
    "datapath_root = Path(\"./PFCS/table task\")\n",
    "# xyz_path = (\n",
    "#     datapath_root\n",
    "#     / \"xyz data\"\n",
    "#     / \"full_tasks\"\n",
    "#     / (task_ground_truth[filenum][\"filename\"] + \".txt\")\n",
    "h5_path = datapath_root / \"h5 files\" / \"fetch_recorded_demo_1730996265.h5\"\n",
    "h5_path.exists()"
   ]
  },
  {
   "cell_type": "code",
   "execution_count": 9,
   "id": "a82f1364-d1c4-4fe4-a7f3-53c74c4035a0",
   "metadata": {},
   "outputs": [],
   "source": [
    "hf = h5py.File(h5_path, \"r\")\n",
    "js = hf.get(\"joint_state_info\")\n",
    "joint_time = np.array(js.get(\"joint_time\"))\n",
    "joint_pos = np.array(js.get(\"joint_positions\"))\n",
    "joint_vel = np.array(js.get(\"joint_velocities\"))\n",
    "joint_eff = np.array(js.get(\"joint_effort\"))\n",
    "joint_data = [joint_time, joint_pos, joint_vel, joint_eff]\n",
    "\n",
    "tf = hf.get(\"transform_info\")\n",
    "tf_time = np.array(tf.get(\"transform_time\"))\n",
    "tf_pos = np.array(tf.get(\"transform_positions\"))\n",
    "tf_rot = np.array(tf.get(\"transform_orientations\"))\n",
    "tf_data = [tf_time, tf_pos, tf_rot]\n",
    "\n",
    "gp = hf.get(\"gripper_info\")\n",
    "gripper_time = np.array(gp.get(\"gripper_time\"))\n",
    "gripper_pos = np.array(gp.get(\"gripper_position\"))\n",
    "gripper_data = [gripper_time, gripper_pos]"
   ]
  },
  {
   "cell_type": "code",
   "execution_count": 14,
   "id": "f23a5995-61e5-4cb0-9dd9-f1e7b203dab5",
   "metadata": {},
   "outputs": [
    {
     "data": {
      "text/plain": [
       "<KeysViewHDF5 ['imu_angular_acceleration', 'imu_linear_acceleration', 'imu_orientation', 'imu_time']>"
      ]
     },
     "execution_count": 14,
     "metadata": {},
     "output_type": "execute_result"
    }
   ],
   "source": [
    "hf.get(\"imu_info\").keys()"
   ]
  },
  {
   "cell_type": "code",
   "execution_count": 15,
   "id": "f1103b80-775d-4735-8d9a-13821a2566cd",
   "metadata": {},
   "outputs": [],
   "source": [
    "hf.close()"
   ]
  },
  {
   "cell_type": "code",
   "execution_count": null,
   "id": "802d09c8-508f-429b-9ea7-ed6e65e6d292",
   "metadata": {},
   "outputs": [],
   "source": []
  }
 ],
 "metadata": {
  "kernelspec": {
   "display_name": "Python 3 (ipykernel)",
   "language": "python",
   "name": "python3"
  },
  "language_info": {
   "codemirror_mode": {
    "name": "ipython",
    "version": 3
   },
   "file_extension": ".py",
   "mimetype": "text/x-python",
   "name": "python",
   "nbconvert_exporter": "python",
   "pygments_lexer": "ipython3",
   "version": "3.13.5"
  }
 },
 "nbformat": 4,
 "nbformat_minor": 5
}
